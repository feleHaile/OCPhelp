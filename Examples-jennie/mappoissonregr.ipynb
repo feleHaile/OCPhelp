{
 "cells": [
  {
   "cell_type": "markdown",
   "metadata": {},
   "source": [
    "## MAP FORM"
   ]
  },
  {
   "cell_type": "markdown",
   "metadata": {},
   "source": [
    "## Poisson Regression of NINO3.4, MDR SSTA, and QBO"
   ]
  },
  {
   "cell_type": "markdown",
   "metadata": {},
   "source": [
    "#### Import packages"
   ]
  },
  {
   "cell_type": "code",
   "execution_count": 1,
   "metadata": {},
   "outputs": [],
   "source": [
    "import numpy as np\n",
    "import pandas as pd\n",
    "import xarray as xr\n",
    "import matplotlib.pyplot as plt\n",
    "from statsmodels.genmod.generalized_estimating_equations import GEE\n",
    "from statsmodels.genmod.cov_struct import (Exchangeable,\n",
    "    Independence,Autoregressive)\n",
    "from statsmodels.genmod.families import Poisson"
   ]
  },
  {
   "cell_type": "code",
   "execution_count": 2,
   "metadata": {},
   "outputs": [],
   "source": [
    "#!conda install statsmodels"
   ]
  },
  {
   "cell_type": "markdown",
   "metadata": {},
   "source": [
    "#### Read in data from netCDF"
   ]
  },
  {
   "cell_type": "code",
   "execution_count": 3,
   "metadata": {},
   "outputs": [],
   "source": [
    "ds = xr.open_dataset('/data/jennie/Pobs_start_season_1950_2016.nc')"
   ]
  },
  {
   "cell_type": "code",
   "execution_count": 4,
   "metadata": {},
   "outputs": [],
   "source": [
    "dMDR=xr.open_dataset('/data/jennie/Pkaplan_MDR_season_1950_2016.nc')"
   ]
  },
  {
   "cell_type": "code",
   "execution_count": 5,
   "metadata": {},
   "outputs": [],
   "source": [
    "MDR=dMDR.MDR.values"
   ]
  },
  {
   "cell_type": "code",
   "execution_count": 6,
   "metadata": {},
   "outputs": [],
   "source": [
    "a=len(MDR)"
   ]
  },
  {
   "cell_type": "code",
   "execution_count": 7,
   "metadata": {},
   "outputs": [],
   "source": [
    "dNINO3p4=xr.open_dataset('/data/jennie/Pkaplan_NINO3p4_season_1950_2016.nc')"
   ]
  },
  {
   "cell_type": "code",
   "execution_count": 8,
   "metadata": {},
   "outputs": [],
   "source": [
    "NINO3p4=dNINO3p4.NINO3p4.values"
   ]
  },
  {
   "cell_type": "code",
   "execution_count": 9,
   "metadata": {},
   "outputs": [],
   "source": [
    "dQBO=xr.open_dataset('/data/jennie/Pncep_QBO30mb_season_1950_2016.nc')"
   ]
  },
  {
   "cell_type": "code",
   "execution_count": 10,
   "metadata": {},
   "outputs": [],
   "source": [
    "QBO=dQBO.QBO.values"
   ]
  },
  {
   "cell_type": "code",
   "execution_count": 11,
   "metadata": {},
   "outputs": [],
   "source": [
    "subject= np.ones(a)"
   ]
  },
  {
   "cell_type": "code",
   "execution_count": 12,
   "metadata": {},
   "outputs": [],
   "source": [
    "fam = Poisson()\n",
    "ind = Independence()"
   ]
  },
  {
   "cell_type": "code",
   "execution_count": 13,
   "metadata": {},
   "outputs": [],
   "source": [
    "# define a function to compute a multiregr of a timeseries\n",
    "def multiregr(x):\n",
    "    starts1a=x.starts.values\n",
    "    data = {'starts': starts1a,\n",
    "        'MDR': MDR,\n",
    "        'NINO3p4': NINO3p4,\n",
    "         'QBO': QBO,'subject': subject}\n",
    "    y = list(range(0,a))\n",
    "    df = pd.DataFrame(data, index=[y])\n",
    "    model1 = GEE.from_formula(\"starts ~ MDR + NINO3p4 + QBO\", \"subject\", df, cov_struct=ind, family=fam)\n",
    "    result1 = model1.fit()\n",
    "    pMDR=result1.params.MDR\n",
    "    pNINO3p4=result1.params.NINO3p4\n",
    "    pQBO=result1.params.QBO\n",
    "    # we need to return a dataarray or else xarray's groupby won't be happy\n",
    "    return xr.DataArray(pMDR)"
   ]
  },
  {
   "cell_type": "code",
   "execution_count": 14,
   "metadata": {},
   "outputs": [
    {
     "name": "stderr",
     "output_type": "stream",
     "text": [
      "/home/jennie/miniconda3/envs/pangeo/lib/python3.6/site-packages/statsmodels/genmod/cov_struct.py:203: RuntimeWarning: invalid value encountered in true_divide\n",
      "  rslt.append(x / v[:, None])\n",
      "/home/jennie/miniconda3/envs/pangeo/lib/python3.6/site-packages/statsmodels/genmod/cov_struct.py:201: RuntimeWarning: invalid value encountered in true_divide\n",
      "  rslt.append(x / v)\n"
     ]
    },
    {
     "data": {
      "text/plain": [
       "<xarray.Dataset>\n",
       "Dimensions:    (allpoints: 1012, time: 67)\n",
       "Coordinates:\n",
       "  * time       (time) datetime64[ns] 1950-07-02T12:00:00 1951-07-02T12:00:00 ...\n",
       "  * allpoints  (allpoints) MultiIndex\n",
       "  - Y          (allpoints) float64 4.0 4.0 4.0 4.0 4.0 4.0 4.0 4.0 4.0 4.0 ...\n",
       "  - X          (allpoints) float64 -100.0 -98.0 -96.0 -94.0 -92.0 -90.0 ...\n",
       "Data variables:\n",
       "    starts     (time, allpoints) float64 0.0 0.0 0.0 0.0 0.0 0.0 0.0 0.0 0.0 ..."
      ]
     },
     "execution_count": 14,
     "metadata": {},
     "output_type": "execute_result"
    }
   ],
   "source": [
    "# apply the function over allpoints to calculate the regression at each point\n",
    "stacked = ds.stack(allpoints=['Y','X'])  \n",
    "coeff = stacked.groupby('allpoints').apply(multiregr)\n",
    "stacked"
   ]
  },
  {
   "cell_type": "code",
   "execution_count": 15,
   "metadata": {},
   "outputs": [
    {
     "data": {
      "text/plain": [
       "<matplotlib.collections.QuadMesh at 0x7f3716e6ad68>"
      ]
     },
     "execution_count": 15,
     "metadata": {},
     "output_type": "execute_result"
    },
    {
     "data": {
      "image/png": "[encoded data removed]",
      "text/plain": [
       "<Figure size 432x288 with 2 Axes>"
      ]
     },
     "metadata": {},
     "output_type": "display_data"
    }
   ],
   "source": [
    "regr_unstacked = coeff.unstack('allpoints')\n",
    "regr_unstacked.plot(cmap='RdBu_r')"
   ]
  },
  {
   "cell_type": "code",
   "execution_count": 16,
   "metadata": {},
   "outputs": [
    {
     "data": {
      "text/plain": [
       "<Figure size 432x288 with 0 Axes>"
      ]
     },
     "metadata": {},
     "output_type": "display_data"
    }
   ],
   "source": [
    "plt.savefig('seasonMDRrawplot.jpeg')"
   ]
  },
  {
   "cell_type": "code",
   "execution_count": 17,
   "metadata": {},
   "outputs": [],
   "source": [
    "import sys\n",
    "import os\n",
    "import matplotlib.pyplot as plt\n",
    "from netCDF4 import Dataset as netcdf_dataset\n",
    "import numpy as np\n",
    "import xarray as xr\n",
    "\n",
    "from cartopy import config\n",
    "import cartopy.crs as ccrs\n",
    "import matplotlib.ticker as mticker\n",
    "from cartopy.mpl.gridliner import LONGITUDE_FORMATTER, LATITUDE_FORMATTER\n",
    "from cartopy.mpl.ticker import LongitudeFormatter, LatitudeFormatter\n",
    "import cartopy.feature as cfeature \n",
    "# When data are defined in lat/lon coordinate system, PlateCarree()\n",
    "# is the appropriate choice:\n",
    "\n",
    "from cartopy.util import add_cyclic_point"
   ]
  },
  {
   "cell_type": "code",
   "execution_count": 18,
   "metadata": {},
   "outputs": [
    {
     "data": {
      "text/plain": [
       "<xarray.DataArray (Y: 22, X: 46)>\n",
       "array([[1.476338e-17, 1.476338e-17, 1.476338e-17, ..., 1.476338e-17,\n",
       "        1.476338e-17, 1.476338e-17],\n",
       "       [1.476338e-17, 1.476338e-17, 1.476338e-17, ..., 1.476338e-17,\n",
       "        1.476338e-17, 1.476338e-17],\n",
       "       [1.476338e-17, 1.476338e-17, 1.476338e-17, ..., 1.476338e-17,\n",
       "        1.476338e-17, 1.476338e-17],\n",
       "       ...,\n",
       "       [1.476338e-17, 1.476338e-17, 1.476338e-17, ..., 1.476338e-17,\n",
       "        1.476338e-17, 1.476338e-17],\n",
       "       [1.476338e-17, 1.476338e-17, 1.476338e-17, ..., 1.476338e-17,\n",
       "        1.476338e-17, 1.476338e-17],\n",
       "       [1.476338e-17, 1.476338e-17, 1.476338e-17, ..., 1.476338e-17,\n",
       "        1.476338e-17, 1.476338e-17]])\n",
       "Coordinates:\n",
       "  * Y        (Y) float64 4.0 6.0 8.0 10.0 12.0 14.0 16.0 18.0 20.0 22.0 24.0 ...\n",
       "  * X        (X) float64 -100.0 -98.0 -96.0 -94.0 -92.0 -90.0 -88.0 -86.0 ..."
      ]
     },
     "execution_count": 18,
     "metadata": {},
     "output_type": "execute_result"
    }
   ],
   "source": [
    "regr_unstacked"
   ]
  },
  {
   "cell_type": "code",
   "execution_count": 19,
   "metadata": {},
   "outputs": [
    {
     "data": {
      "image/png": "[encoded data removed]",
      "text/plain": [
       "<Figure size 432x288 with 2 Axes>"
      ]
     },
     "metadata": {},
     "output_type": "display_data"
    }
   ],
   "source": [
    "X=ds.X\n",
    "Y=ds.Y\n",
    "plt.figure()\n",
    "ax = plt.axes(projection=ccrs.PlateCarree())\n",
    "v = np.linspace(-200, 200, 50, endpoint=True)\n",
    "vv = np.linspace(-200, 200, 9, endpoint=True)\n",
    "im=plt.contourf(X, Y, regr_unstacked, v,\n",
    "             transform=ccrs.PlateCarree(), cmap = \"bwr\")\n",
    "cb = plt.colorbar(im, ticks=vv, orientation='horizontal', shrink = 1, label='')\n",
    "ax.coastlines()\n",
    "ax.set_xticks([-100, -80 ,-60, -40, -20, 0], crs=ccrs.PlateCarree())\n",
    "ax.set_yticks([0, 10, 20, 30, 40], crs=ccrs.PlateCarree())\n",
    "lon_formatter = LongitudeFormatter(zero_direction_label=True)\n",
    "lat_formatter = LatitudeFormatter()\n",
    "ax.xaxis.set_major_formatter(lon_formatter)\n",
    "ax.yaxis.set_major_formatter(lat_formatter)\n",
    "ax.gridlines(xlocs=[-100, -80 ,-60, -40, -20, 0], ylocs=[0, 10, 20, 30, 40, 50])\n",
    "plt.title('Season Starts 1950-2016 Poisson Multiple Regression MDR Coeff', fontsize=12)\n",
    "plt.savefig('MDR50.jpeg')\n",
    "plt.show()"
   ]
  },
  {
   "cell_type": "code",
   "execution_count": null,
   "metadata": {},
   "outputs": [],
   "source": []
  }
 ],
 "metadata": {
  "kernelspec": {
   "display_name": "Python 3",
   "language": "python",
   "name": "python3"
  },
  "language_info": {
   "codemirror_mode": {
    "name": "ipython",
    "version": 3
   },
   "file_extension": ".py",
   "mimetype": "text/x-python",
   "name": "python",
   "nbconvert_exporter": "python",
   "pygments_lexer": "ipython3",
   "version": "3.6.5"
  }
 },
 "nbformat": 4,
 "nbformat_minor": 2
}
