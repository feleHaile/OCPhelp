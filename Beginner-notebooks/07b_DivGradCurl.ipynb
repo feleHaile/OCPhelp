{
 "cells": [
  {
   "cell_type": "markdown",
   "metadata": {},
   "source": [
    "## Example calculation of finite difference operators on A-grid using xgcm\n",
    "* 'Finite volume' versions, as in Ryan's xgcm example, require area and length\n",
    "metrics on each of the discrete trapezoids and then, for example, \n",
    "the symbolic recipe for the divergence would be:\n",
    "\n",
    "    Div(u,v) = [ (uh \\* dyh).diff('X') + (vh \\* dxh).diff('Y') ] / Area \n",
    "\n",
    "where (u,v,dx,dy) are at the trapezoid center and\n",
    "\n",
    "    * uh = u.interp('X')\n",
    "    * vh = v.interp('Y')\n",
    "    * dyh = dy.interp('X')\n",
    "    * dxh = dx.interp('Y')\n",
    "    * Area = dx*dy (area of trapezoid)\n",
    "    \n",
    "Note that for an evenly spaced (lon,lat) grid, dy(meters) is constant but dx(meters) depends on cos(lat)\n",
    "\n",
    "* Here we assume constant dx and dy and use the analytic formula to put the cos(lat) factor where needed\n"
   ]
  },
  {
   "cell_type": "code",
   "execution_count": null,
   "metadata": {},
   "outputs": [],
   "source": [
    "import numpy as np\n",
    "import xarray as xr\n",
    "from matplotlib import pyplot as plt\n",
    "%matplotlib inline\n",
    "plt.rcParams['figure.figsize'] = (8,4)\n",
    "import xgcm\n",
    "from glob import glob"
   ]
  },
  {
   "cell_type": "markdown",
   "metadata": {},
   "source": [
    "### First we will import a sample vector field (u10,v10)\n",
    "Note, this will only work on our machines which see the kage drives"
   ]
  },
  {
   "cell_type": "code",
   "execution_count": null,
   "metadata": {},
   "outputs": [],
   "source": [
    "files = '/net/kage/d5/datasets/ERAInterim/monthly/Surface/*10.nc'\n",
    "ds1 = xr.open_mfdataset(glob(files),decode_times=False)\n",
    "ds = ds1.mean('T')\n",
    "ds"
   ]
  },
  {
   "cell_type": "markdown",
   "metadata": {},
   "source": [
    "### The reanalysis data is on an 'A-grid'  (all data on the same grid)"
   ]
  },
  {
   "cell_type": "markdown",
   "metadata": {},
   "source": [
    "### We need to define the 'half point' or 'right' grids\n",
    "N.B. The Y grid is going from North to South"
   ]
  },
  {
   "cell_type": "code",
   "execution_count": null,
   "metadata": {},
   "outputs": [],
   "source": [
    "delx = ds.X[1]-ds.X[0]; dely = ds.Y[1]-ds.Y[0]\n",
    "xh = ds.X + delx/2.0; ds['Xh'] = ('Xh',xh)\n",
    "yh = ds.Y + dely/2.0; ds['Yh'] = ('Yh',yh)\n",
    "print('X grid:',ds.X.data[0:10],'\\nXh grid:',ds.Xh.data[0:10])\n",
    "print('Y grid:',ds.Y.data[0:10],'\\nYh grid:',ds.Yh.data[0:10])"
   ]
  },
  {
   "cell_type": "markdown",
   "metadata": {},
   "source": [
    "### Next we create our xgcm Grid:\n",
    "Yes, I know it is not periodic in Y, but it is easier (don't need to give boundary=...) and we just won't look at the derivatives near the poles"
   ]
  },
  {
   "cell_type": "code",
   "execution_count": null,
   "metadata": {},
   "outputs": [],
   "source": [
    "grid = xgcm.Grid(ds, coords={'X': {'center': 'Xh', 'right': 'X'},\n",
    "                             'Y': {'center': 'Yh', 'right': 'Y'}}, periodic=['X','Y'])\n",
    "grid"
   ]
  },
  {
   "cell_type": "markdown",
   "metadata": {},
   "source": [
    "### and our metric terms:"
   ]
  },
  {
   "cell_type": "code",
   "execution_count": null,
   "metadata": {},
   "outputs": [],
   "source": [
    "coslat = np.cos(np.deg2rad(ds.Y))\n",
    "coslath = np.cos(np.deg2rad(ds.Yh))\n",
    "meterPdegree = 111000.0\n",
    "\n",
    "dxm = delx*meterPdegree\n",
    "dym = dely*meterPdegree"
   ]
  },
  {
   "cell_type": "markdown",
   "metadata": {},
   "source": [
    "### Now that we have our grids and metrics defined, the hard part is over. \n",
    "\n",
    "### Let's use xgcm to calculate our standard differential operators: \n",
    "* divergence\n",
    "* gradient\n",
    "* curl "
   ]
  },
  {
   "cell_type": "markdown",
   "metadata": {},
   "source": [
    "### Divergence\n",
    "\n",
    "\n",
    "\n",
    "The horizontal divergence of $\\vec u = (u,v)$ in spherical coordinates is\n",
    "\n",
    "$$ \\nabla \\cdot \\vec u =   \\frac{1}{\\cos y} \\left( \\frac{\\partial u}{\\partial x} + \\\n",
    "                                         \\frac{\\partial (v \\cos y )}{\\partial y} \\right)$$\n",
    "\n"
   ]
  },
  {
   "cell_type": "code",
   "execution_count": null,
   "metadata": {},
   "outputs": [],
   "source": [
    "# calculate the divergence of the 10m winds, (u10,v10)\n",
    "# Method I\n",
    "dudx = grid.diff(ds.u10,axis='X')/dxm  \n",
    "dvdy = grid.diff(coslat*ds.v10,axis='Y')/dym\n",
    "divergence = (grid.interp(dudx,axis='X')+ grid.interp(dvdy,axis='Y'))/coslat\n",
    "ds['divergence1'] = divergence"
   ]
  },
  {
   "cell_type": "code",
   "execution_count": null,
   "metadata": {},
   "outputs": [],
   "source": [
    "# same calculation, \n",
    "# Method II (preferred)\n",
    "uh = grid.interp(ds.u10,axis='X')\n",
    "vh = grid.interp(ds.v10,axis='Y')\n",
    "dudx = grid.diff(uh,axis='X')/dxm  \n",
    "dvdy = grid.diff(coslath*vh,axis='Y')/dym\n",
    "divergence = (dudx + dvdy)/coslat\n",
    "ds['divergence'] = divergence"
   ]
  },
  {
   "cell_type": "code",
   "execution_count": null,
   "metadata": {},
   "outputs": [],
   "source": [
    "div1 = ds.sel(X=240,Y=slice(30,-30)).divergence1\n",
    "div2 = ds.sel(X=240,Y=slice(30,-30)).divergence\n",
    "div_diff = (div2 - div1)*100\n",
    "div1.plot(marker='o', label=\"Method I\")\n",
    "div2.plot(label=\"Method II\")\n",
    "div_diff.plot(label=\"100*difference\")\n",
    "plt.legend()"
   ]
  },
  {
   "cell_type": "code",
   "execution_count": null,
   "metadata": {},
   "outputs": [],
   "source": [
    "del ds['divergence1']"
   ]
  },
  {
   "cell_type": "markdown",
   "metadata": {},
   "source": [
    "### Gradient\n",
    "\n",
    "The gradient of a scalar field, $F$, in spherical coordinates is\n",
    "\n",
    "$$ \\nabla F =  (\\frac{1}{cos y}\\frac{\\partial F}{\\partial x} , \\\n",
    "                     \\frac{\\partial F}{\\partial y} )$$\n",
    "\n"
   ]
  },
  {
   "cell_type": "code",
   "execution_count": null,
   "metadata": {},
   "outputs": [],
   "source": [
    "# calculate the gradient of the mean 10m wind speed, si10\n",
    "ds.si10.plot()"
   ]
  },
  {
   "cell_type": "code",
   "execution_count": null,
   "metadata": {},
   "outputs": [],
   "source": [
    "Fhx = grid.interp(ds.si10,axis='X')\n",
    "Fhy = grid.interp(ds.si10,axis='Y')\n",
    "ds['wnspgradx'] = grid.diff(Fhx,axis='X')/(dxm*coslat)\n",
    "ds['wnspgrady'] = grid.diff(Fhy,axis='Y')/dym"
   ]
  },
  {
   "cell_type": "code",
   "execution_count": null,
   "metadata": {},
   "outputs": [],
   "source": [
    "#plt.quiver(ds.X, ds.Y[5:-5], gradx[0,5:-5], grady[0,5:-5])\n",
    "ds.sel(X=240,Y=slice(30,-30)).wnspgradx.plot()\n",
    "ds.sel(X=240,Y=slice(30,-30)).wnspgrady.plot()\n",
    "plt.legend()"
   ]
  },
  {
   "cell_type": "markdown",
   "metadata": {},
   "source": [
    "### Curl\n",
    "\n",
    "The curl of $\\vec u = (u,v)$ in spherical coordinates is\n",
    "\n",
    "$$ \\nabla \\times \\vec u =  \\frac{1}{\\cos y} \\left ( \\frac{\\partial v}{\\partial x}  - \\frac{\\partial (u \\cos y)}{\\partial y} \\right\n",
    "                                     )$$\n",
    "\n"
   ]
  },
  {
   "cell_type": "code",
   "execution_count": null,
   "metadata": {},
   "outputs": [],
   "source": [
    "uh = grid.interp(ds.u10,axis='Y')\n",
    "vh = grid.interp(ds.v10,axis='X')\n",
    "dudy = grid.diff(uh*coslath,axis='Y')/dym\n",
    "dvdx = grid.diff(vh,axis='X')/dxm\n",
    "ds['curl'] = (dvdx - dudy)/coslat\n",
    "ds"
   ]
  },
  {
   "cell_type": "code",
   "execution_count": null,
   "metadata": {},
   "outputs": [],
   "source": [
    "ds.curl[5:-5].plot(vmin = -1e-5, vmax = 1e-5)"
   ]
  }
 ],
 "metadata": {
  "kernelspec": {
   "display_name": "Py3 pangeo",
   "language": "python",
   "name": "pangeo"
  },
  "language_info": {
   "codemirror_mode": {
    "name": "ipython",
    "version": 3
   },
   "file_extension": ".py",
   "mimetype": "text/x-python",
   "name": "python",
   "nbconvert_exporter": "python",
   "pygments_lexer": "ipython3",
   "version": "3.6.5"
  }
 },
 "nbformat": 4,
 "nbformat_minor": 2
}
